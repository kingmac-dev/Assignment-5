{
 "cells": [
  {
   "cell_type": "markdown",
   "id": "d724e1dd-7c37-4d34-8c08-0dadc29f790c",
   "metadata": {},
   "source": [
    "# ASSIGNMENT 5 :-"
   ]
  },
  {
   "cell_type": "markdown",
   "id": "3444700c-afa9-45bd-800f-8015073540ad",
   "metadata": {},
   "source": [
    "Q1. What is the syntax for adding an element to a list in Python?"
   ]
  },
  {
   "cell_type": "markdown",
   "id": "96717d4c-d574-47b9-bc5b-b33853adc3e5",
   "metadata": {},
   "source": [
    "Answer) There are two ways for adding an element to a list in a Python. Which are append() and insert() they are as follows :"
   ]
  },
  {
   "cell_type": "code",
   "execution_count": null,
   "id": "837e0b83-82ee-43e9-a29e-3585f2603c9e",
   "metadata": {},
   "outputs": [],
   "source": [
    "list.append()"
   ]
  },
  {
   "cell_type": "code",
   "execution_count": null,
   "id": "43b27c23-35dd-45d6-9098-39ff0cbdf897",
   "metadata": {},
   "outputs": [],
   "source": [
    "list.insert()"
   ]
  },
  {
   "cell_type": "markdown",
   "id": "eb1526dd-f6d1-4821-b2f2-d38eb71a1c3d",
   "metadata": {},
   "source": [
    "Q2.What is the difference between remove() and pop() functions in Python?"
   ]
  },
  {
   "cell_type": "markdown",
   "id": "113a1fef-ccc6-4f92-843f-10b275918f69",
   "metadata": {},
   "source": [
    "A) The difference between remove() and pop () fuctions in Python are as follows :-"
   ]
  },
  {
   "cell_type": "markdown",
   "id": "90978a70-1e97-41e8-97d7-e6831261c46f",
   "metadata": {},
   "source": [
    "The remove() method removes the first occurrence of an element from a list. For example, if we have a list of the letters of the alphabet and we want to remove the letter \"a\", we would use the remove() method like this:"
   ]
  },
  {
   "cell_type": "code",
   "execution_count": 4,
   "id": "3083905d-7ace-46f6-8cea-c6eb7c05aa41",
   "metadata": {},
   "outputs": [],
   "source": [
    "letters = [\"a\", \"b\", \"c\", \"d\"]"
   ]
  },
  {
   "cell_type": "code",
   "execution_count": 5,
   "id": "72c9b097-354a-439a-b055-2ac2fe0be193",
   "metadata": {},
   "outputs": [],
   "source": [
    "letters.remove(\"a\")"
   ]
  },
  {
   "cell_type": "code",
   "execution_count": 6,
   "id": "49e8b9ce-8cfc-4609-af14-9d4123f72479",
   "metadata": {},
   "outputs": [
    {
     "name": "stdout",
     "output_type": "stream",
     "text": [
      "['b', 'c', 'd']\n"
     ]
    }
   ],
   "source": [
    "print(letters)"
   ]
  },
  {
   "cell_type": "markdown",
   "id": "c6e2ca0a-a3fe-4c00-adbe-59fbe08d8dd7",
   "metadata": {},
   "source": [
    "This code will print the list [\"b\", \"c\", \"d\"], because the first occurrence of the letter \"a\" was removed.\n",
    "\n",
    "The pop() method removes the element at a specified index from a list. For example, if we want to remove the third letter from the list of letters, we would use the pop() method like this:\n"
   ]
  },
  {
   "cell_type": "code",
   "execution_count": 7,
   "id": "100c4ec5-a79f-4485-b693-a303c964f09b",
   "metadata": {},
   "outputs": [],
   "source": [
    "letters = [\"a\", \"b\", \"c\", \"d\"]"
   ]
  },
  {
   "cell_type": "code",
   "execution_count": 8,
   "id": "9afd5342-db99-41fe-845b-0f7e91e3f184",
   "metadata": {},
   "outputs": [],
   "source": [
    "letter = letters.pop(2)"
   ]
  },
  {
   "cell_type": "code",
   "execution_count": 9,
   "id": "ae222d9f-53b2-4304-8ea1-ba5c24635523",
   "metadata": {},
   "outputs": [
    {
     "name": "stdout",
     "output_type": "stream",
     "text": [
      "['a', 'b', 'd']\n"
     ]
    }
   ],
   "source": [
    "print(letters)"
   ]
  },
  {
   "cell_type": "markdown",
   "id": "e87544fc-7011-4e9d-a7df-7a46523c615a",
   "metadata": {},
   "source": [
    "Q3. Write a Python code to sort a list in descending order."
   ]
  },
  {
   "cell_type": "markdown",
   "id": "742d0a32-0220-405c-9aae-852f7d9ba702",
   "metadata": {},
   "source": [
    "Anwser)"
   ]
  },
  {
   "cell_type": "code",
   "execution_count": 10,
   "id": "c5651724-325a-4567-ab97-1afaa08abaeb",
   "metadata": {},
   "outputs": [],
   "source": [
    "l1=[\"a\",\"b\",\"c\",\"d\",\"e\"]"
   ]
  },
  {
   "cell_type": "code",
   "execution_count": 11,
   "id": "b7acf085-2ca8-4eb7-891c-3b2a021e1ed8",
   "metadata": {},
   "outputs": [],
   "source": [
    "l1.sort(reverse=True)"
   ]
  },
  {
   "cell_type": "code",
   "execution_count": 12,
   "id": "e6752ee7-8d45-4756-8279-f0afb6d3e07d",
   "metadata": {},
   "outputs": [
    {
     "data": {
      "text/plain": [
       "['e', 'd', 'c', 'b', 'a']"
      ]
     },
     "execution_count": 12,
     "metadata": {},
     "output_type": "execute_result"
    }
   ],
   "source": [
    "l1"
   ]
  },
  {
   "cell_type": "markdown",
   "id": "4f356d5d-4c44-40a8-af77-68f46990bb77",
   "metadata": {},
   "source": [
    "Q4. Write a Python code to count the number of occurrences of an element in a list."
   ]
  },
  {
   "cell_type": "code",
   "execution_count": 13,
   "id": "ac66332a-5a92-47dc-8038-14abe30db6a9",
   "metadata": {},
   "outputs": [],
   "source": [
    "#A4)\n",
    "l2=[\"a\",\"b\",\"b\",\"a\",\"a\",\"a\",\"c\",\"d\"]"
   ]
  },
  {
   "cell_type": "code",
   "execution_count": 14,
   "id": "e65a681d-1d1d-4c4d-99d4-d4457407e349",
   "metadata": {},
   "outputs": [
    {
     "data": {
      "text/plain": [
       "4"
      ]
     },
     "execution_count": 14,
     "metadata": {},
     "output_type": "execute_result"
    }
   ],
   "source": [
    "l2.count(\"a\")"
   ]
  },
  {
   "cell_type": "code",
   "execution_count": 15,
   "id": "7be5d96d-b38d-40cb-a857-1255b0fbff94",
   "metadata": {},
   "outputs": [],
   "source": [
    "#To count number of occurrences of an element in a list we will use count() function."
   ]
  },
  {
   "cell_type": "markdown",
   "id": "b6ad5b19-4ac6-4706-b919-f1abe879075e",
   "metadata": {},
   "source": [
    "Q5. Write a Python code to reverse a list."
   ]
  },
  {
   "cell_type": "code",
   "execution_count": 18,
   "id": "8162f25e-6c18-43ff-8744-ed17c5728e8b",
   "metadata": {},
   "outputs": [],
   "source": [
    "#Answer 5 ) There are two ways to write reverse list which are as follows :-\n",
    "l5=['a','b','c','d','e']"
   ]
  },
  {
   "cell_type": "code",
   "execution_count": 19,
   "id": "fd14f83f-467b-4268-9fdd-bc8743c62984",
   "metadata": {},
   "outputs": [],
   "source": [
    "l5 =l5[::-1]"
   ]
  },
  {
   "cell_type": "code",
   "execution_count": 20,
   "id": "3c59b744-7895-4fa6-8a41-c9069682b13d",
   "metadata": {},
   "outputs": [
    {
     "data": {
      "text/plain": [
       "['e', 'd', 'c', 'b', 'a']"
      ]
     },
     "execution_count": 20,
     "metadata": {},
     "output_type": "execute_result"
    }
   ],
   "source": [
    "l5"
   ]
  },
  {
   "cell_type": "code",
   "execution_count": 25,
   "id": "c5129e87-c46e-401b-9b3d-31ba70edff45",
   "metadata": {},
   "outputs": [],
   "source": [
    "#and the other one is using reverse function()\n",
    "l5.reverse()"
   ]
  },
  {
   "cell_type": "code",
   "execution_count": 26,
   "id": "e6584c88-4013-4845-98d6-879a5f4a3ac5",
   "metadata": {},
   "outputs": [
    {
     "data": {
      "text/plain": [
       "['a', 'b', 'c', 'd', 'e']"
      ]
     },
     "execution_count": 26,
     "metadata": {},
     "output_type": "execute_result"
    }
   ],
   "source": [
    "l5"
   ]
  }
 ],
 "metadata": {
  "kernelspec": {
   "display_name": "Python 3 (ipykernel)",
   "language": "python",
   "name": "python3"
  },
  "language_info": {
   "codemirror_mode": {
    "name": "ipython",
    "version": 3
   },
   "file_extension": ".py",
   "mimetype": "text/x-python",
   "name": "python",
   "nbconvert_exporter": "python",
   "pygments_lexer": "ipython3",
   "version": "3.10.8"
  }
 },
 "nbformat": 4,
 "nbformat_minor": 5
}
